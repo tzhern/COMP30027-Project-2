{
 "cells": [
  {
   "cell_type": "code",
   "execution_count": 1,
   "metadata": {
    "collapsed": true
   },
   "outputs": [],
   "source": [
    "import pandas as pd\n",
    "import numpy as np\n",
    "import re\n",
    "\n",
    "# preprocess\n",
    "from sklearn.feature_extraction.text import TfidfTransformer\n",
    "from sklearn.feature_extraction.text import TfidfVectorizer\n",
    "from sklearn.feature_selection import GenericUnivariateSelect, chi2\n",
    "\n",
    "\n",
    "from sklearn.feature_selection import GenericUnivariateSelect, chi2\n",
    "from sklearn.model_selection import train_test_split\n",
    "\n",
    "# model\n",
    "from sklearn.neural_network import MLPClassifier\n",
    "\n",
    "import tensorflow as tf\n",
    "\n",
    "from tensorflow.keras import datasets, layers, models\n",
    "import matplotlib.pyplot as plt"
   ]
  },
  {
   "cell_type": "code",
   "execution_count": 2,
   "metadata": {
    "collapsed": false,
    "pycharm": {
     "name": "#%%\n"
    }
   },
   "outputs": [],
   "source": [
    "# load raw data csv files\n",
    "\"\"\"\n",
    "attributes: name, n_steps, n_ingredients, steps, ingredients\n",
    "\"\"\"\n",
    "df_train = pd.read_csv(\"resources/datasets/recipe_train.csv\")\n",
    "df_test = pd.read_csv(\"resources/datasets/recipe_test.csv\")"
   ]
  },
  {
   "cell_type": "code",
   "execution_count": 3,
   "metadata": {
    "collapsed": false,
    "pycharm": {
     "name": "#%%\n"
    }
   },
   "outputs": [],
   "source": [
    "def preprocess(df):\n",
    "    arr_ingr = df['ingredients'].copy().to_numpy()\n",
    "    arr_steps = df['steps'].copy().to_numpy()\n",
    "    arr_name = df['name'].copy().to_numpy()\n",
    "    _RE_COMBINE_WHITESPACE = re.compile(r\"\\s+\")\n",
    "    ## remove all puntuation\n",
    "    for i in range(len(arr_steps)):\n",
    "        arr_steps[i] = re.sub(r'[^\\w\\s]', '', str(arr_steps[i]))\n",
    "        arr_steps[i] = _RE_COMBINE_WHITESPACE.sub(\" \", arr_steps[i]).strip() + ' '\n",
    "        arr_ingr[i] = re.sub(r'[^\\w\\s]', '', str(arr_ingr[i]))\n",
    "        arr_ingr[i] = _RE_COMBINE_WHITESPACE.sub(\" \", arr_ingr[i]).strip() + ' '\n",
    "        arr_name[i] = re.sub(r'[^\\w\\s]', '', str(arr_name[i]))\n",
    "        arr_name[i] = _RE_COMBINE_WHITESPACE.sub(\" \", arr_name[i]).strip()\n",
    "\n",
    "    # combined all three features\n",
    "    X = arr_steps + arr_ingr + arr_name\n",
    "    return X"
   ]
  },
  {
   "cell_type": "code",
   "execution_count": 4,
   "metadata": {
    "collapsed": false,
    "pycharm": {
     "name": "#%%\n"
    }
   },
   "outputs": [
    {
     "name": "stdout",
     "output_type": "stream",
     "text": [
      "Shape of X (nrow, ncol): (40000, 580978)\n"
     ]
    }
   ],
   "source": [
    "X = preprocess(df_train)\n",
    "y = df_train['duration_label']\n",
    "\n",
    "# include both uni-grams and bi-grams\n",
    "# exclude stop words\n",
    "vectorizer = TfidfVectorizer(sublinear_tf=True, ngram_range=(1,2), analyzer='word', stop_words= 'english')\n",
    "X = vectorizer.fit_transform(X)\n",
    "\n",
    "print(\"Shape of X (nrow, ncol):\", X.shape)"
   ]
  },
  {
   "cell_type": "code",
   "execution_count": 5,
   "metadata": {
    "collapsed": false,
    "pycharm": {
     "name": "#%%\n"
    }
   },
   "outputs": [
    {
     "data": {
      "text/plain": "(40000, 116196)"
     },
     "execution_count": 5,
     "metadata": {},
     "output_type": "execute_result"
    }
   ],
   "source": [
    "fselect = GenericUnivariateSelect(chi2, mode='percentile', param=20)\n",
    "X_new = fselect.fit_transform(X, y)\n",
    "X_new.shape"
   ]
  },
  {
   "cell_type": "code",
   "execution_count": 8,
   "metadata": {
    "collapsed": false,
    "pycharm": {
     "name": "#%%\n"
    }
   },
   "outputs": [
    {
     "name": "stdout",
     "output_type": "stream",
     "text": [
      "Iteration 1, loss = 0.65022812\n",
      "Iteration 2, loss = 0.31249984\n",
      "Iteration 3, loss = 0.16037653\n",
      "Iteration 4, loss = 0.08124064\n",
      "Iteration 5, loss = 0.04354741\n",
      "Iteration 6, loss = 0.02616517\n",
      "Iteration 7, loss = 0.01811297\n",
      "Iteration 8, loss = 0.01424194\n",
      "Iteration 9, loss = 0.01205843\n",
      "Iteration 10, loss = 0.01066542\n",
      "Iteration 11, loss = 0.00976182\n",
      "Iteration 12, loss = 0.00912615\n",
      "Iteration 13, loss = 0.00860043\n",
      "Iteration 14, loss = 0.00805948\n",
      "Iteration 15, loss = 0.00767774\n",
      "Iteration 16, loss = 0.00732637\n",
      "Iteration 17, loss = 0.00700503\n",
      "Iteration 18, loss = 0.00670655\n",
      "Iteration 19, loss = 0.00642512\n",
      "Iteration 20, loss = 0.00616396\n"
     ]
    },
    {
     "name": "stderr",
     "output_type": "stream",
     "text": [
      "/Users/hern/opt/anaconda3/lib/python3.8/site-packages/sklearn/neural_network/_multilayer_perceptron.py:619: UserWarning: Training interrupted by user.\n",
      "  warnings.warn(\"Training interrupted by user.\")\n"
     ]
    },
    {
     "data": {
      "text/plain": "MLPClassifier(random_state=1, verbose=True)"
     },
     "execution_count": 8,
     "metadata": {},
     "output_type": "execute_result"
    }
   ],
   "source": [
    "X_train, X_test, y_train, y_test = train_test_split(X_new, y, test_size=20)\n",
    "mlp = MLPClassifier(random_state=1, max_iter=200, verbose=True)\n",
    "mlp.fit(X_train, y_train)"
   ]
  },
  {
   "cell_type": "code",
   "execution_count": 9,
   "metadata": {
    "pycharm": {
     "name": "#%%\n"
    }
   },
   "outputs": [
    {
     "data": {
      "text/plain": "0.95"
     },
     "execution_count": 9,
     "metadata": {},
     "output_type": "execute_result"
    }
   ],
   "source": [
    "mlp.score(X_test, y_test)"
   ]
  },
  {
   "cell_type": "code",
   "execution_count": 14,
   "outputs": [],
   "source": [
    "X_train = preprocess(df_train)\n",
    "X_test = preprocess(df_test)\n",
    "y_train = df_train['duration_label']\n",
    "X = np.concatenate((X_train, X_test), axis=0)\n",
    "\n",
    "# transform into sparse\n",
    "vectorizer = TfidfVectorizer(sublinear_tf=True, ngram_range=(1,2), analyzer='word', stop_words= 'english')\n",
    "vectorizer.fit(X)\n",
    "X_train = vectorizer.transform(X_train)\n",
    "X_test = vectorizer.transform(X_test)\n",
    "\n",
    "# feature selection\n",
    "fselect = GenericUnivariateSelect(chi2, mode='percentile', param=20)\n",
    "fselect.fit(X_train, y_train)\n",
    "X_train_new = fselect.transform(X_train)\n",
    "X_test_new = fselect.transform(X_test)"
   ],
   "metadata": {
    "collapsed": false,
    "pycharm": {
     "name": "#%%\n"
    }
   }
  },
  {
   "cell_type": "code",
   "execution_count": 20,
   "outputs": [
    {
     "name": "stdout",
     "output_type": "stream",
     "text": [
      "Iteration 1, loss = 0.64523725\n",
      "Validation score: 0.825250\n",
      "Iteration 2, loss = 0.31237514\n",
      "Validation score: 0.853500\n",
      "Iteration 3, loss = 0.15228023\n",
      "Validation score: 0.863250\n",
      "Iteration 4, loss = 0.07156563\n",
      "Validation score: 0.864250\n",
      "Iteration 5, loss = 0.03664685\n",
      "Validation score: 0.864000\n",
      "Iteration 6, loss = 0.02227228\n",
      "Validation score: 0.862750\n",
      "Iteration 7, loss = 0.01598737\n",
      "Validation score: 0.860750\n",
      "Iteration 8, loss = 0.01281167\n",
      "Validation score: 0.861000\n",
      "Iteration 9, loss = 0.01097917\n",
      "Validation score: 0.859000\n",
      "Iteration 10, loss = 0.00982452\n",
      "Validation score: 0.858000\n",
      "Iteration 11, loss = 0.00904910\n",
      "Validation score: 0.855250\n",
      "Iteration 12, loss = 0.00837114\n",
      "Validation score: 0.854500\n",
      "Iteration 13, loss = 0.00792431\n",
      "Validation score: 0.851000\n",
      "Iteration 14, loss = 0.00749891\n",
      "Validation score: 0.850250\n",
      "Iteration 15, loss = 0.00715423\n",
      "Validation score: 0.847500\n",
      "Validation score did not improve more than tol=0.000100 for 10 consecutive epochs. Stopping.\n"
     ]
    },
    {
     "data": {
      "text/plain": "MLPClassifier(early_stopping=True, verbose=True)"
     },
     "execution_count": 20,
     "metadata": {},
     "output_type": "execute_result"
    }
   ],
   "source": [
    "mlp = MLPClassifier(max_iter=200, verbose=True, early_stopping=True)\n",
    "mlp.fit(X_train_new, y_train)"
   ],
   "metadata": {
    "collapsed": false,
    "pycharm": {
     "name": "#%%\n"
    }
   }
  },
  {
   "cell_type": "code",
   "execution_count": 21,
   "outputs": [],
   "source": [
    "predicts = mlp.predict(X_test_new)"
   ],
   "metadata": {
    "collapsed": false,
    "pycharm": {
     "name": "#%%\n"
    }
   }
  },
  {
   "cell_type": "code",
   "execution_count": 22,
   "outputs": [],
   "source": [
    "ids = np.array(range(len(predicts))) + 1\n",
    "output = pd.DataFrame({'id': ids, 'duration_label': predicts})\n",
    "output.to_csv('output_test.csv', index=False)"
   ],
   "metadata": {
    "collapsed": false,
    "pycharm": {
     "name": "#%%\n"
    }
   }
  },
  {
   "cell_type": "code",
   "execution_count": null,
   "outputs": [],
   "source": [],
   "metadata": {
    "collapsed": false,
    "pycharm": {
     "name": "#%%\n"
    }
   }
  }
 ],
 "metadata": {
  "kernelspec": {
   "display_name": "Python 3.8.8 64-bit ('base': conda)",
   "name": "python388jvsc74a57bd0dce69896fdb445434427c12e791455610f9ef8e6bb07ea975426634cd43b3db3"
  },
  "language_info": {
   "codemirror_mode": {
    "name": "ipython",
    "version": 3
   },
   "file_extension": ".py",
   "mimetype": "text/x-python",
   "name": "python",
   "nbconvert_exporter": "python",
   "pygments_lexer": "ipython3",
   "version": "3.8.8"
  }
 },
 "nbformat": 4,
 "nbformat_minor": 0
}
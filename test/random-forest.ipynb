{
 "cells": [
  {
   "cell_type": "code",
   "execution_count": 4,
   "metadata": {},
   "outputs": [],
   "source": [
    "import pandas as pd\n",
    "import numpy as np\n",
    "from sklearn.preprocessing import MultiLabelBinarizer\n",
    "from sklearn.model_selection import cross_validate\n",
    "import pickle\n",
    "import joblib\n",
    "import warnings\n",
    "## ML model\n",
    "from sklearn.ensemble import RandomForestClassifier"
   ]
  },
  {
   "cell_type": "code",
   "execution_count": 5,
   "metadata": {},
   "outputs": [
    {
     "name": "stderr",
     "output_type": "stream",
     "text": [
      "/Users/hern/opt/anaconda3/lib/python3.8/site-packages/sklearn/base.py:310: UserWarning: Trying to unpickle estimator CountVectorizer from version 0.21.3 when using version 0.24.1. This might lead to breaking code or invalid results. Use at your own risk.\n",
      "  warnings.warn(\n"
     ]
    }
   ],
   "source": [
    "# load csv files\n",
    "\"\"\"\n",
    "name, n_steps, n_ingredients, steps, ingredients\n",
    "\"\"\"\n",
    "df_train = pd.read_csv(\"datasets/recipe_train.csv\")\n",
    "df_test = pd.read_csv(\"datasets/recipe_test.csv\")\n",
    "\n",
    "# load CountVectorizer (pkl) files\n",
    "\"\"\"\n",
    "This file contains the CountVectorizer extracted using the text of the recipe \"name\" in the training set.\n",
    "\"\"\"\n",
    "vocab_name_train = pickle.load(open(\"datasets/recipe_text_features_countvec/train_name_countvectorizer.pkl\", \"rb\"))\n",
    "vocab_steps_train = pickle.load(open(\"datasets/recipe_text_features_countvec/train_steps_countvectorizer.pkl\", \"rb\"))\n",
    "vocab_ingr_train = pickle.load(open(\"datasets/recipe_text_features_countvec/train_ingr_countvectorizer.pkl\", \"rb\"))\n",
    "vocab_name_dict_train = vocab_name_train.vocabulary_\n",
    "vocab_steps_dict_train = vocab_steps_train.vocabulary_\n",
    "vocab_ingr_dict_train = vocab_ingr_train.vocabulary_\n"
   ]
  },
  {
   "cell_type": "code",
   "execution_count": 6,
   "metadata": {},
   "outputs": [],
   "source": [
    "# preprocessing name attribute\n",
    "arr_x = df_train['ingredients'].to_numpy()\n",
    "for i in range(len(arr_x)):\n",
    "    arr_x[i] = str(arr_x[i]).replace(\"[\", \"\").replace(\"]\", \"\").replace(\",\", \"\").replace(\"'\", \"\").split(\" \")\n",
    "\n",
    "\n",
    "ingrs = list(vocab_ingr_dict_train.keys())\n",
    "mlb = MultiLabelBinarizer(classes = ingrs)\n",
    "with warnings.catch_warnings():\n",
    "    warnings.simplefilter(\"ignore\")\n",
    "    X = mlb.fit_transform(arr_x)\n",
    "y = df_train['duration_label']"
   ]
  },
  {
   "cell_type": "code",
   "execution_count": null,
   "metadata": {},
   "outputs": [],
   "source": [
    "rf = RandomForestClassifier(n_estimators = 100, random_state = 42)\n",
    "cv_results = cross_validate(rf, X, y, cv=2)"
   ]
  }
 ],
 "metadata": {
  "kernelspec": {
   "display_name": "Python 3.8.5 64-bit ('base': conda)",
   "name": "python385jvsc74a57bd0dce69896fdb445434427c12e791455610f9ef8e6bb07ea975426634cd43b3db3"
  },
  "language_info": {
   "codemirror_mode": {
    "name": "ipython",
    "version": 3
   },
   "file_extension": ".py",
   "mimetype": "text/x-python",
   "name": "python",
   "nbconvert_exporter": "python",
   "pygments_lexer": "ipython3",
   "version": "3.8.5"
  },
  "orig_nbformat": 2
 },
 "nbformat": 4,
 "nbformat_minor": 2
}
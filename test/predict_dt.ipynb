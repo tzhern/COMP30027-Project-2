{
 "cells": [
  {
   "cell_type": "markdown",
   "metadata": {},
   "source": [
    "Decision Tree   \n",
    "Features: steps & ingredients\n",
    "\n",
    "Test score: 0.72025    \n",
    "Kaggle score: "
   ]
  },
  {
   "cell_type": "code",
   "execution_count": 2,
   "metadata": {},
   "outputs": [],
   "source": [
    "import pandas as pd\n",
    "import numpy as np\n",
    "from sklearn.feature_extraction.text import TfidfTransformer\n",
    "from sklearn.feature_extraction.text import TfidfVectorizer\n",
    "from sklearn.tree import DecisionTreeClassifier\n",
    "from sklearn.model_selection import train_test_split\n",
    "from sklearn.model_selection import RepeatedStratifiedKFold\n",
    "from sklearn.feature_selection import GenericUnivariateSelect, chi2\n",
    "from sklearn.model_selection import GridSearchCV\n",
    "\n",
    "from load_data import *\n",
    "from utils import *"
   ]
  },
  {
   "cell_type": "code",
   "execution_count": 3,
   "metadata": {},
   "outputs": [],
   "source": [
    "def preprocess(df):\n",
    "    arr_steps = df['steps'].copy().to_numpy()\n",
    "    arr_ingr = df['ingredients'].copy().to_numpy()\n",
    "    for i in range(len(arr_steps)):\n",
    "        arr_steps[i] = str(arr_steps[i]).replace(\"[\", \"\").replace(\"]\", \"\").replace(\",\", \"\").replace(\"'\", \"\")\n",
    "        arr_ingr[i] = str(arr_ingr[i]).replace(\"[\", \"\").replace(\"]\", \"\").replace(\",\", \"\").replace(\"'\", \"\")\n",
    "    \n",
    "    X = arr_steps + arr_ingr\n",
    "    return X"
   ]
  },
  {
   "cell_type": "markdown",
   "metadata": {},
   "source": [
    "Run the model without feature selection"
   ]
  },
  {
   "cell_type": "code",
   "execution_count": 4,
   "metadata": {},
   "outputs": [],
   "source": [
    "X = preprocess(df_train)\n",
    "y = df_train['duration_label']\n",
    "\n",
    "vectorizer = TfidfVectorizer(sublinear_tf=True, ngram_range=(1,2))\n",
    "X = vectorizer.fit_transform(X)"
   ]
  },
  {
   "cell_type": "code",
   "execution_count": 5,
   "metadata": {},
   "outputs": [],
   "source": [
    "dt = DecisionTreeClassifier()\n",
    "title = \"Learning Curves (Decision Tree, before feature selection)\"\n",
    "plot_learning_curves(dt, title, X, y, n_jobs=-1)"
   ]
  },
  {
   "cell_type": "markdown",
   "metadata": {},
   "source": [
    "Run the model with feature selection"
   ]
  },
  {
   "cell_type": "code",
   "execution_count": 1,
   "metadata": {},
   "outputs": [
    {
     "ename": "NameError",
     "evalue": "name 'GenericUnivariateSelect' is not defined",
     "output_type": "error",
     "traceback": [
      "\u001b[0;31m---------------------------------------------------------------------------\u001b[0m",
      "\u001b[0;31mNameError\u001b[0m                                 Traceback (most recent call last)",
      "\u001b[0;32m<ipython-input-1-dbd4926f9a93>\u001b[0m in \u001b[0;36m<module>\u001b[0;34m\u001b[0m\n\u001b[0;32m----> 1\u001b[0;31m \u001b[0mfselect\u001b[0m \u001b[0;34m=\u001b[0m \u001b[0mGenericUnivariateSelect\u001b[0m\u001b[0;34m(\u001b[0m\u001b[0mchi2\u001b[0m\u001b[0;34m,\u001b[0m \u001b[0mmode\u001b[0m\u001b[0;34m=\u001b[0m\u001b[0;34m'percentile'\u001b[0m\u001b[0;34m,\u001b[0m \u001b[0mparam\u001b[0m\u001b[0;34m=\u001b[0m\u001b[0;36m20\u001b[0m\u001b[0;34m)\u001b[0m\u001b[0;34m\u001b[0m\u001b[0;34m\u001b[0m\u001b[0m\n\u001b[0m\u001b[1;32m      2\u001b[0m \u001b[0mX_new\u001b[0m \u001b[0;34m=\u001b[0m \u001b[0mfselect\u001b[0m\u001b[0;34m.\u001b[0m\u001b[0mfit_transform\u001b[0m\u001b[0;34m(\u001b[0m\u001b[0mX\u001b[0m\u001b[0;34m,\u001b[0m \u001b[0my\u001b[0m\u001b[0;34m)\u001b[0m\u001b[0;34m\u001b[0m\u001b[0;34m\u001b[0m\u001b[0m\n",
      "\u001b[0;31mNameError\u001b[0m: name 'GenericUnivariateSelect' is not defined"
     ]
    }
   ],
   "source": [
    "fselect = GenericUnivariateSelect(chi2, mode='percentile', param=20)\n",
    "X_new = fselect.fit_transform(X, y)"
   ]
  },
  {
   "cell_type": "code",
   "execution_count": 10,
   "metadata": {},
   "outputs": [
    {
     "data": {
      "image/png": "[encoded data removed]",
      "text/plain": "<Figure size 432x288 with 1 Axes>"
     },
     "metadata": {
      "needs_background": "light"
     },
     "output_type": "display_data"
    }
   ],
   "source": [
    "dt = DecisionTreeClassifier()\n",
    "title = \"Learning Curves (Decision Tree, after feature selection)\"\n",
    "plot_learning_curves(dt, title, X_new, y, n_jobs=-1)"
   ]
  },
  {
   "cell_type": "code",
   "execution_count": 10,
   "metadata": {},
   "outputs": [
    {
     "name": "stdout",
     "output_type": "stream",
     "text": [
      "Best: 0.758437 using {'criterion': 'gini', 'max_depth': 10}\n",
      "0.758437 (0.004971) with: {'criterion': 'gini', 'max_depth': 10}\n",
      "0.740406 (0.006266) with: {'criterion': 'gini', 'max_depth': 20}\n",
      "0.728531 (0.005831) with: {'criterion': 'gini', 'max_depth': 30}\n",
      "0.725219 (0.006479) with: {'criterion': 'gini', 'max_depth': 40}\n",
      "0.723406 (0.005437) with: {'criterion': 'gini', 'max_depth': 50}\n",
      "0.722594 (0.006240) with: {'criterion': 'gini', 'max_depth': 60}\n",
      "0.724656 (0.005100) with: {'criterion': 'gini', 'max_depth': 70}\n",
      "0.721562 (0.006524) with: {'criterion': 'gini', 'max_depth': 80}\n",
      "0.721344 (0.005588) with: {'criterion': 'gini', 'max_depth': 90}\n",
      "0.721969 (0.004973) with: {'criterion': 'gini', 'max_depth': 100}\n",
      "0.750656 (0.007314) with: {'criterion': 'entropy', 'max_depth': 10}\n",
      "0.738938 (0.005755) with: {'criterion': 'entropy', 'max_depth': 20}\n",
      "0.723875 (0.004461) with: {'criterion': 'entropy', 'max_depth': 30}\n",
      "0.722187 (0.001720) with: {'criterion': 'entropy', 'max_depth': 40}\n",
      "0.720562 (0.003697) with: {'criterion': 'entropy', 'max_depth': 50}\n",
      "0.718813 (0.005258) with: {'criterion': 'entropy', 'max_depth': 60}\n",
      "0.719063 (0.005044) with: {'criterion': 'entropy', 'max_depth': 70}\n",
      "0.719063 (0.005044) with: {'criterion': 'entropy', 'max_depth': 80}\n",
      "0.719063 (0.005044) with: {'criterion': 'entropy', 'max_depth': 90}\n",
      "0.719063 (0.005044) with: {'criterion': 'entropy', 'max_depth': 100}\n"
     ]
    }
   ],
   "source": [
    "# define models and parameters\n",
    "model = DecisionTreeClassifier(random_state=0)\n",
    "criteria = ['gini', 'entropy']\n",
    "max_depths = list(range(10,110,10))\n",
    "\n",
    "# define grid search\n",
    "grid = dict(criterion=criteria, max_depth=max_depths)\n",
    "grid_search = GridSearchCV(estimator=model, param_grid=grid, n_jobs=-1, scoring='accuracy',error_score=0)\n",
    "grid_result = grid_search.fit(X_train, y_train)\n",
    "\n",
    "# summarize results\n",
    "print(\"Best: %f using %s\" % (grid_result.best_score_, grid_result.best_params_))\n",
    "means = grid_result.cv_results_['mean_test_score']\n",
    "stds = grid_result.cv_results_['std_test_score']\n",
    "params = grid_result.cv_results_['params']\n",
    "for mean, stdev, param in zip(means, stds, params):\n",
    "    if mean != 0:\n",
    "        print(\"%f (%f) with: %r\" % (mean, stdev, param))"
   ]
  },
  {
   "cell_type": "code",
   "execution_count": null,
   "metadata": {},
   "outputs": [],
   "source": []
  }
 ],
 "metadata": {
  "kernelspec": {
   "display_name": "Python 3.8.8 64-bit ('base': conda)",
   "name": "python388jvsc74a57bd0dce69896fdb445434427c12e791455610f9ef8e6bb07ea975426634cd43b3db3"
  },
  "language_info": {
   "codemirror_mode": {
    "name": "ipython",
    "version": 3
   },
   "file_extension": ".py",
   "mimetype": "text/x-python",
   "name": "python",
   "nbconvert_exporter": "python",
   "pygments_lexer": "ipython3",
   "version": "3.8.8"
  },
  "orig_nbformat": 2
 },
 "nbformat": 4,
 "nbformat_minor": 2
}
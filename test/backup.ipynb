{
 "cells": [
  {
   "cell_type": "code",
   "execution_count": null,
   "metadata": {},
   "outputs": [],
   "source": [
    "def plot_learning_curves(estimator, title, X, y, cv=None, n_jobs=None, train_sizes=np.linspace(0.1, 1.0, 5)):\n",
    "     train_sizes, train_scores, test_scores = learning_curve(estimator, X, y, cv=cv, train_sizes=train_sizes)\n",
    "     train_scores_mean = np.mean(train_scores, axis=1)\n",
    "     train_scores_std = np.std(train_scores, axis=1)\n",
    "     test_scores_mean = np.mean(test_scores, axis=1)\n",
    "     test_scores_std = np.std(test_scores, axis=1)\n",
    "\n",
    "     # Plot learning curve\n",
    "     plt.grid()\n",
    "     plt.title(title)\n",
    "     plt.xlabel(\"Training examples\")\n",
    "     plt.ylabel(\"Score\")\n",
    "     plt.fill_between(train_sizes, train_scores_mean - train_scores_std,\n",
    "                         train_scores_mean + train_scores_std, alpha=0.1,\n",
    "                         color=\"r\")\n",
    "     plt.fill_between(train_sizes, test_scores_mean - test_scores_std,\n",
    "                         test_scores_mean + test_scores_std, alpha=0.1,\n",
    "                         color=\"g\")\n",
    "     plt.plot(train_sizes, train_scores_mean, 'o-', color=\"r\", label=\"Training score\")\n",
    "     plt.plot(train_sizes, test_scores_mean, 'o-', color=\"g\", label=\"Cross-validation score\")\n",
    "     plt.legend(loc=\"best\")\n",
    "     plt.show()\n"
   ]
  },
  {
   "cell_type": "code",
   "execution_count": null,
   "metadata": {},
   "outputs": [],
   "source": [
    "# Logistic Regression\n",
    "lg = LogisticRegression(max_iter=1000, C=10, penalty='l2', solver='saga')\n",
    "title = \"Learning Curves (Logistic Regression, before feature selection)\"\n",
    "plot_learning_curves(lg, title, X, y, n_jobs=-1)\n",
    "title = \"Learning Curves (Logistic Regression, after feature selection)\"\n",
    "plot_learning_curves(lg, title, X_new, y, n_jobs=-1)"
   ]
  },
  {
   "cell_type": "code",
   "execution_count": null,
   "metadata": {},
   "outputs": [],
   "source": [
    "# Decision Tree\n",
    "dt = DecisionTreeClassifier(criterion='entropy', max_depth=10)\n",
    "title = \"Learning Curves (Decision tree, before feature selection)\"\n",
    "plot_learning_curves(dt, title, X, y, n_jobs=-1)\n",
    "title = \"Learning Curves (Decision tree, after feature selection)\"\n",
    "plot_learning_curves(dt, title, X_new, y, n_jobs=-1)"
   ]
  },
  {
   "cell_type": "code",
   "execution_count": null,
   "metadata": {},
   "outputs": [],
   "source": [
    "# Linear SVM\n",
    "lsvm = LinearSVC(loss='squared_hinge', multi_class='ovr', penalty='l2')\n",
    "title = \"Learning Curves (Linear SVM, before feature selection)\"\n",
    "plot_learning_curves(lsvm, title, X, y, n_jobs=-1)\n",
    "title = \"Learning Curves (Linear SVM, after feature selection)\"\n",
    "plot_learning_curves(lsvm, title, X_new, y, n_jobs=-1)"
   ]
  }
 ],
 "metadata": {
  "kernelspec": {
   "display_name": "Python 3.8.8 64-bit ('base': conda)",
   "name": "python388jvsc74a57bd0dce69896fdb445434427c12e791455610f9ef8e6bb07ea975426634cd43b3db3"
  },
  "language_info": {
   "name": "python",
   "version": ""
  },
  "orig_nbformat": 2
 },
 "nbformat": 4,
 "nbformat_minor": 2
}